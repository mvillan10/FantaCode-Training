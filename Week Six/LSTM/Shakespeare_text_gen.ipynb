{
 "cells": [
  {
   "cell_type": "code",
   "execution_count": 1,
   "metadata": {},
   "outputs": [
    {
     "name": "stderr",
     "output_type": "stream",
     "text": [
      "Using TensorFlow backend.\n",
      "/usr/lib/python3.6/importlib/_bootstrap.py:219: RuntimeWarning: compiletime version 3.5 of module 'tensorflow.python.framework.fast_tensor_util' does not match runtime version 3.6\n",
      "  return f(*args, **kwds)\n"
     ]
    }
   ],
   "source": [
    "import numpy as np\n",
    "from keras.models import Sequential\n",
    "from keras.layers import Dense\n",
    "from keras.layers import Dropout\n",
    "from keras.layers import LSTM\n",
    "from keras.utils import np_utils"
   ]
  },
  {
   "cell_type": "code",
   "execution_count": 2,
   "metadata": {},
   "outputs": [],
   "source": [
    "#formatting the text\n",
    "data = open('data/Othello.txt').read().lower()\n",
    "chars = sorted(list(set(data)))\n",
    "total_chars = len(data)\n",
    "unique_chars = len(chars)"
   ]
  },
  {
   "cell_type": "code",
   "execution_count": 3,
   "metadata": {},
   "outputs": [],
   "source": [
    "chars_for_ids = {char:Id for Id, char in enumerate(chars)}\n",
    "ids_for_chars = {Id:char for Id, char in enumerate(chars)}\n",
    "chars_to_learn = 100"
   ]
  },
  {
   "cell_type": "code",
   "execution_count": 4,
   "metadata": {},
   "outputs": [],
   "source": [
    "char_X = []\n",
    "y = []\n",
    "counter = total_chars - chars_to_learn\n",
    "for i in range(0, counter, 1):\n",
    "    input_chars = data[i:i+chars_to_learn]\n",
    "    output_chars = data[i + chars_to_learn]\n",
    "    char_X.append([chars_for_ids[char] for char in input_chars])\n",
    "    y.append(chars_for_ids[output_chars])\n",
    "    "
   ]
  },
  {
   "cell_type": "code",
   "execution_count": 5,
   "metadata": {},
   "outputs": [],
   "source": [
    "X = np.reshape(char_X, (len(char_X), chars_to_learn, 1))\n",
    "X = X/float(unique_chars)\n",
    "y = np_utils.to_categorical(y)"
   ]
  },
  {
   "cell_type": "code",
   "execution_count": 6,
   "metadata": {},
   "outputs": [
    {
     "name": "stdout",
     "output_type": "stream",
     "text": [
      "Epoch 1/20\n",
      "1760/1760 [==============================] - 13s 7ms/step - loss: 3.2549\n",
      "Epoch 2/20\n",
      "1760/1760 [==============================] - 13s 7ms/step - loss: 3.0352\n",
      "Epoch 3/20\n",
      "1760/1760 [==============================] - 12s 7ms/step - loss: 3.0093\n",
      "Epoch 4/20\n",
      "1760/1760 [==============================] - 12s 7ms/step - loss: 2.9979\n",
      "Epoch 5/20\n",
      "1760/1760 [==============================] - 12s 7ms/step - loss: 2.9933\n",
      "Epoch 6/20\n",
      "1760/1760 [==============================] - 12s 7ms/step - loss: 2.9929\n",
      "Epoch 7/20\n",
      "1760/1760 [==============================] - 13s 7ms/step - loss: 2.9914\n",
      "Epoch 8/20\n",
      "1760/1760 [==============================] - 12s 7ms/step - loss: 2.9915\n",
      "Epoch 9/20\n",
      "1760/1760 [==============================] - 12s 7ms/step - loss: 2.9889\n",
      "Epoch 10/20\n",
      "1760/1760 [==============================] - 12s 7ms/step - loss: 2.9864\n",
      "Epoch 11/20\n",
      "1760/1760 [==============================] - 12s 7ms/step - loss: 2.9903\n",
      "Epoch 12/20\n",
      "1760/1760 [==============================] - 12s 7ms/step - loss: 2.9934\n",
      "Epoch 13/20\n",
      "1760/1760 [==============================] - 11s 7ms/step - loss: 2.9923\n",
      "Epoch 14/20\n",
      "1760/1760 [==============================] - 12s 7ms/step - loss: 2.9952\n",
      "Epoch 15/20\n",
      "1760/1760 [==============================] - 12s 7ms/step - loss: 2.9882\n",
      "Epoch 16/20\n",
      "1760/1760 [==============================] - 11s 6ms/step - loss: 2.9897\n",
      "Epoch 17/20\n",
      "1760/1760 [==============================] - 12s 7ms/step - loss: 2.9834\n",
      "Epoch 18/20\n",
      "1760/1760 [==============================] - 12s 7ms/step - loss: 2.9880\n",
      "Epoch 19/20\n",
      "1760/1760 [==============================] - 12s 7ms/step - loss: 2.9870\n",
      "Epoch 20/20\n",
      "1760/1760 [==============================] - 12s 7ms/step - loss: 2.9865\n"
     ]
    },
    {
     "data": {
      "text/plain": [
       "<keras.callbacks.History at 0x7f58888ffac8>"
      ]
     },
     "execution_count": 6,
     "metadata": {},
     "output_type": "execute_result"
    }
   ],
   "source": [
    "#creating and fitting the model\n",
    "model = Sequential()\n",
    "model.add(LSTM(256, input_shape=(X.shape[1], X.shape[2])))\n",
    "model.add(Dropout(0.2))\n",
    "model.add(Dense(y.shape[1], activation='softmax'))\n",
    "model.compile(loss='categorical_crossentropy', optimizer='adam')\n",
    "model.fit(X, y, epochs=20, batch_size=128)\n"
   ]
  },
  {
   "cell_type": "code",
   "execution_count": 7,
   "metadata": {},
   "outputs": [],
   "source": [
    "import h5py\n",
    "model.save_weights('data/Othello.hdf5')"
   ]
  },
  {
   "cell_type": "code",
   "execution_count": 8,
   "metadata": {},
   "outputs": [],
   "source": [
    "model.load_weights('data/Othello.hdf5')"
   ]
  },
  {
   "cell_type": "code",
   "execution_count": 14,
   "metadata": {
    "scrolled": true
   },
   "outputs": [
    {
     "name": "stdout",
     "output_type": "stream",
     "text": [
      "                                                                                                    \n"
     ]
    }
   ],
   "source": [
    "random_val = np.random.randint(0, len(char_X)-1)\n",
    "random_start = char_X[random_val]\n",
    "for i in range(500):\n",
    "    x = np.reshape(random_start, (1, len(random_start), 1))\n",
    "    x = x/float(unique_chars)\n",
    "    pred = model.predict(x)\n",
    "    index = np.argmax(pred)\n",
    "    random_start.append(index)\n",
    "    random_start = random_start[1: len(random_start)]\n",
    "print(\"\".join([ids_for_chars[value] for value in random_start]))"
   ]
  },
  {
   "cell_type": "code",
   "execution_count": 31,
   "metadata": {},
   "outputs": [],
   "source": [
    "from random import randint\n",
    "def make_seed():\n",
    "    sentence_length=100\n",
    "    seed_phrase=\"i love you\"\n",
    "    if seed_phrase:\n",
    "        phrase_length = len(seed_phrase)\n",
    "        pattern = \"\"\n",
    "        for i in range (0, sentence_length):\n",
    "            pattern += seed_phrase[i % phrase_length]\n",
    "    else:\n",
    "        seed = randint(0, len(data) - sentence_length)\n",
    "        pattern = data[seed:seed + sentence_length]\n",
    "\n",
    "    return pattern"
   ]
  },
  {
   "cell_type": "code",
   "execution_count": 34,
   "metadata": {},
   "outputs": [
    {
     "ename": "KeyError",
     "evalue": "'i'",
     "output_type": "error",
     "traceback": [
      "\u001b[0;31m---------------------------------------------------------------------------\u001b[0m",
      "\u001b[0;31mKeyError\u001b[0m                                  Traceback (most recent call last)",
      "\u001b[0;32m<ipython-input-34-0f2cbac0a8cb>\u001b[0m in \u001b[0;36m<module>\u001b[0;34m()\u001b[0m\n\u001b[1;32m      3\u001b[0m \u001b[0mseed_pattern\u001b[0m \u001b[0;34m=\u001b[0m \u001b[0mmake_seed\u001b[0m\u001b[0;34m(\u001b[0m\u001b[0;34m)\u001b[0m\u001b[0;34m\u001b[0m\u001b[0m\n\u001b[1;32m      4\u001b[0m \u001b[0;32mfor\u001b[0m \u001b[0mi\u001b[0m\u001b[0;34m,\u001b[0m \u001b[0mcharacter\u001b[0m \u001b[0;32min\u001b[0m \u001b[0menumerate\u001b[0m\u001b[0;34m(\u001b[0m\u001b[0mseed_pattern\u001b[0m\u001b[0;34m)\u001b[0m\u001b[0;34m:\u001b[0m\u001b[0;34m\u001b[0m\u001b[0m\n\u001b[0;32m----> 5\u001b[0;31m     \u001b[0mX\u001b[0m\u001b[0;34m[\u001b[0m\u001b[0;36m0\u001b[0m\u001b[0;34m,\u001b[0m \u001b[0mi\u001b[0m\u001b[0;34m,\u001b[0m \u001b[0mids_for_chars\u001b[0m\u001b[0;34m[\u001b[0m\u001b[0mcharacter\u001b[0m\u001b[0;34m]\u001b[0m\u001b[0;34m]\u001b[0m \u001b[0;34m=\u001b[0m \u001b[0;36m1\u001b[0m\u001b[0;34m\u001b[0m\u001b[0m\n\u001b[0m\u001b[1;32m      6\u001b[0m \u001b[0mgenerated_text\u001b[0m \u001b[0;34m=\u001b[0m \u001b[0;34m\"\"\u001b[0m\u001b[0;34m\u001b[0m\u001b[0m\n\u001b[1;32m      7\u001b[0m \u001b[0;32mfor\u001b[0m \u001b[0mi\u001b[0m \u001b[0;32min\u001b[0m \u001b[0mrange\u001b[0m\u001b[0;34m(\u001b[0m\u001b[0;36m500\u001b[0m\u001b[0;34m)\u001b[0m\u001b[0;34m:\u001b[0m\u001b[0;34m\u001b[0m\u001b[0m\n",
      "\u001b[0;31mKeyError\u001b[0m: 'i'"
     ]
    }
   ],
   "source": [
    "X = np.zeros((1, 100, len(chars)), dtype=np.bool)\n",
    "seed = 7\n",
    "seed_pattern = make_seed()\n",
    "for i, character in enumerate(seed_pattern):\n",
    "    X[0, i, ids_for_chars[character]] = 1\n",
    "generated_text = \"\"\n",
    "for i in range(500):\n",
    "    prediction = np.argmax(model.predict(X, verbose=0))\n",
    "    \n",
    "    generated_text += chars_for_ids[prediction]\n",
    "#    activations = np.zeros((1, 1, len(chars)), dtype=np.bool)\n",
    "#    activations[0, 0, prediction] = 1\n",
    "#    X = np.concatenate((X[:, 1:, :], activations), axis=1)\n",
    "print(generated_text)"
   ]
  },
  {
   "cell_type": "code",
   "execution_count": null,
   "metadata": {},
   "outputs": [],
   "source": []
  }
 ],
 "metadata": {
  "kernelspec": {
   "display_name": "Python 3",
   "language": "python",
   "name": "python3"
  },
  "language_info": {
   "codemirror_mode": {
    "name": "ipython",
    "version": 3
   },
   "file_extension": ".py",
   "mimetype": "text/x-python",
   "name": "python",
   "nbconvert_exporter": "python",
   "pygments_lexer": "ipython3",
   "version": "3.6.3"
  }
 },
 "nbformat": 4,
 "nbformat_minor": 2
}
