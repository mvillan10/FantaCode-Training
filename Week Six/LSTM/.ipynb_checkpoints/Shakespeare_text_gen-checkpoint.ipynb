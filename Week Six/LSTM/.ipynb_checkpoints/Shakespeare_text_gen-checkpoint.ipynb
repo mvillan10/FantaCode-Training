{
 "cells": [
  {
   "cell_type": "code",
   "execution_count": 4,
   "metadata": {},
   "outputs": [],
   "source": [
    "import numpy as np\n",
    "from keras.models import Sequential\n",
    "from keras.layers import Dense\n",
    "from keras.layers import Dropout\n",
    "from keras.layers import LSTM\n",
    "from keras.utils import np_utils"
   ]
  },
  {
   "cell_type": "code",
   "execution_count": 5,
   "metadata": {},
   "outputs": [],
   "source": [
    "#formatting the text\n",
    "data = open('data/Othello.txt').read().lower()\n",
    "chars = sorted(list(set(data)))\n",
    "total_chars = len(data)\n",
    "unique_chars = len(chars)"
   ]
  },
  {
   "cell_type": "code",
   "execution_count": 6,
   "metadata": {},
   "outputs": [],
   "source": [
    "chars_for_ids = {char:Id for Id, char in enumerate(chars)}\n",
    "ids_for_chars = {Id:char for Id, char in enumerate(chars)}\n",
    "chars_to_learn = 100"
   ]
  },
  {
   "cell_type": "code",
   "execution_count": 7,
   "metadata": {},
   "outputs": [],
   "source": [
    "char_X = []\n",
    "y = []\n",
    "counter = total_chars - chars_to_learn\n",
    "for i in range(0, counter, 1):\n",
    "    input_chars = data[i:i+chars_to_learn]\n",
    "    output_chars = data[i + chars_to_learn]\n",
    "    char_X.append([chars_for_ids[char] for char in input_chars])\n",
    "    y.append(chars_for_ids[output_chars])\n",
    "    "
   ]
  },
  {
   "cell_type": "code",
   "execution_count": 8,
   "metadata": {},
   "outputs": [],
   "source": [
    "X = np.reshape(char_X, (len(char_X), chars_to_learn, 1))\n",
    "X = X/float(unique_chars)\n",
    "y = np_utils.to_categorical(y)"
   ]
  },
  {
   "cell_type": "code",
   "execution_count": 18,
   "metadata": {},
   "outputs": [
    {
     "name": "stdout",
     "output_type": "stream",
     "text": [
      "Epoch 1/20\n",
      "1760/1760 [==============================] - 13s 7ms/step - loss: 3.2667\n",
      "Epoch 2/20\n",
      "1760/1760 [==============================] - 12s 7ms/step - loss: 3.0349\n",
      "Epoch 3/20\n",
      "1760/1760 [==============================] - 12s 7ms/step - loss: 3.0091\n",
      "Epoch 4/20\n",
      "1760/1760 [==============================] - 12s 7ms/step - loss: 2.9964\n",
      "Epoch 5/20\n",
      "1760/1760 [==============================] - 12s 7ms/step - loss: 3.0032\n",
      "Epoch 6/20\n",
      "1760/1760 [==============================] - 12s 7ms/step - loss: 2.9918\n",
      "Epoch 7/20\n",
      "1760/1760 [==============================] - 12s 7ms/step - loss: 2.9975\n",
      "Epoch 8/20\n",
      "1760/1760 [==============================] - 12s 7ms/step - loss: 2.9987\n",
      "Epoch 9/20\n",
      "1760/1760 [==============================] - 12s 7ms/step - loss: 2.9925\n",
      "Epoch 10/20\n",
      "1760/1760 [==============================] - 12s 7ms/step - loss: 2.9940\n",
      "Epoch 11/20\n",
      "1760/1760 [==============================] - 12s 7ms/step - loss: 2.9979\n",
      "Epoch 12/20\n",
      "1760/1760 [==============================] - 12s 7ms/step - loss: 2.9866\n",
      "Epoch 13/20\n",
      "1760/1760 [==============================] - 12s 7ms/step - loss: 2.9933\n",
      "Epoch 14/20\n",
      "1760/1760 [==============================] - 12s 7ms/step - loss: 2.9897\n",
      "Epoch 15/20\n",
      "1760/1760 [==============================] - 16s 9ms/step - loss: 2.9893\n",
      "Epoch 16/20\n",
      "1760/1760 [==============================] - 13s 7ms/step - loss: 2.9864\n",
      "Epoch 17/20\n",
      "1760/1760 [==============================] - 12s 7ms/step - loss: 2.9798\n",
      "Epoch 18/20\n",
      "1760/1760 [==============================] - 12s 7ms/step - loss: 2.9910\n",
      "Epoch 19/20\n",
      "1760/1760 [==============================] - 12s 7ms/step - loss: 2.9866\n",
      "Epoch 20/20\n",
      "1760/1760 [==============================] - 12s 7ms/step - loss: 2.9843\n"
     ]
    },
    {
     "data": {
      "text/plain": [
       "<keras.callbacks.History at 0x7fc840de9c50>"
      ]
     },
     "execution_count": 18,
     "metadata": {},
     "output_type": "execute_result"
    }
   ],
   "source": [
    "#creating and fitting the model\n",
    "model = Sequential()\n",
    "model.add(LSTM(256, input_shape=(X.shape[1], X.shape[2])))\n",
    "model.add(Dropout(0.2))\n",
    "model.add(Dense(y.shape[1], activation='softmax'))\n",
    "model.compile(loss='categorical_crossentropy', optimizer='adam')\n",
    "model.fit(X, y, epochs=20, batch_size=128)\n"
   ]
  },
  {
   "cell_type": "code",
   "execution_count": 23,
   "metadata": {},
   "outputs": [
    {
     "ename": "ImportError",
     "evalue": "cannot import name 'np_utils'",
     "output_type": "error",
     "traceback": [
      "\u001b[0;31m---------------------------------------------------------------------------\u001b[0m",
      "\u001b[0;31mImportError\u001b[0m                               Traceback (most recent call last)",
      "\u001b[0;32m<ipython-input-23-c629b88112c4>\u001b[0m in \u001b[0;36m<module>\u001b[0;34m()\u001b[0m\n\u001b[0;32m----> 1\u001b[0;31m \u001b[0;32mfrom\u001b[0m \u001b[0mh5py\u001b[0m \u001b[0;32mimport\u001b[0m \u001b[0mnp_utils\u001b[0m\u001b[0;34m\u001b[0m\u001b[0m\n\u001b[0m\u001b[1;32m      2\u001b[0m \u001b[0mmodel\u001b[0m\u001b[0;34m.\u001b[0m\u001b[0msave_weights\u001b[0m\u001b[0;34m(\u001b[0m\u001b[0;34m'data/Othello.hdf5'\u001b[0m\u001b[0;34m)\u001b[0m\u001b[0;34m\u001b[0m\u001b[0m\n",
      "\u001b[0;31mImportError\u001b[0m: cannot import name 'np_utils'"
     ]
    }
   ],
   "source": [
    "from h5py import \n",
    "model.save_weights('data/Othello.hdf5')"
   ]
  },
  {
   "cell_type": "code",
   "execution_count": null,
   "metadata": {},
   "outputs": [],
   "source": []
  }
 ],
 "metadata": {
  "kernelspec": {
   "display_name": "Python 3",
   "language": "python",
   "name": "python3"
  },
  "language_info": {
   "codemirror_mode": {
    "name": "ipython",
    "version": 3
   },
   "file_extension": ".py",
   "mimetype": "text/x-python",
   "name": "python",
   "nbconvert_exporter": "python",
   "pygments_lexer": "ipython3",
   "version": "3.6.3"
  }
 },
 "nbformat": 4,
 "nbformat_minor": 2
}
