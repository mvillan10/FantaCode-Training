{
 "cells": [
  {
   "cell_type": "code",
   "execution_count": 1,
   "metadata": {},
   "outputs": [],
   "source": [
    "\n",
    "import sys\n",
    "import os\n",
    "import shutil\n",
    "import time\n",
    "import traceback\n",
    "\n",
    "from flask import Flask, request, jsonify\n",
    "import pandas as pd\n",
    "from sklearn.externals import joblib"
   ]
  },
  {
   "cell_type": "code",
   "execution_count": 2,
   "metadata": {},
   "outputs": [],
   "source": [
    "app = Flask(__name__)"
   ]
  },
  {
   "cell_type": "code",
   "execution_count": 3,
   "metadata": {},
   "outputs": [],
   "source": [
    "\n",
    "\n",
    "model_file_name = 'model/model.pkl'\n",
    "model_columns_file_name = 'model/model_columns.pkl'"
   ]
  },
  {
   "cell_type": "code",
   "execution_count": 4,
   "metadata": {},
   "outputs": [],
   "source": [
    "clf = joblib.load(model_file_name)\n",
    "model_columns = joblib.load(model_columns_file_name)"
   ]
  },
  {
   "cell_type": "code",
   "execution_count": 5,
   "metadata": {
    "scrolled": false
   },
   "outputs": [
    {
     "name": "stdout",
     "output_type": "stream",
     "text": [
      "   Intercept  occ_2  occ_3  occ_4  occ_5  occ_6  occ_husb_2  occ_husb_3  \\\n",
      "0        1.0    1.0    0.0    0.0    1.0    0.0         0.0         0.0   \n",
      "1        1.0    1.0    0.0    0.0    0.0    0.0         0.0         1.0   \n",
      "\n",
      "   occ_husb_4  occ_husb_5  occ_husb_6  rate_marriage   age  yrs_married  \\\n",
      "0         1.0         0.0         0.0            4.0  32.0         13.0   \n",
      "1         0.0         0.0         0.0            5.0  37.0         23.0   \n",
      "\n",
      "   children  religious  educ  \n",
      "0       2.0        2.0  14.0  \n",
      "1       5.5        2.0  12.0  \n",
      "\n",
      "prediction for data 1 :  1.0\n",
      "prediction for data 2 :  0.0\n"
     ]
    }
   ],
   "source": [
    "if clf:\n",
    "#        try:\n",
    "#            json_ = request.json\n",
    "            query = pd.DataFrame([[1.0,1.0, 0.0,0.0,1.0,0.0, 0.0,0.0,1.0,0.0,0.0, 4.0,32.0,13.0,2.0,2.0,14.0], [1.0,    1.0,    0.0,    0.0,    0.0,    0.0,         0.0,         1.0, 0.0,         0.0,         0.0,            5.0,  37.0,         23.0, 5.5,        2.0,  12.0, ]],\\\n",
    "                                 columns=['Intercept','occ_2','occ_3','occ_4','occ_5','occ_6','occ_husb_2','occ_husb_3','occ_husb_4','occ_husb_5','occ_husb_6','rate_marriage','age','yrs_married','children','religious','educ'])\n",
    "            print(query)\n",
    "            for col in model_columns:\n",
    "                if col not in query.columns:\n",
    "                    query[col] = 0.0\n",
    "\n",
    "            prediction = list(clf.predict(query))\n",
    "            \n",
    "            print(\"\\nprediction for data 1 : \",prediction[0])\n",
    "            print(\"prediction for data 2 : \",prediction[1])\n",
    "\n",
    "#            return jsonify({'prediction': prediction})\n",
    "\n",
    " #       except Exception, e:\n",
    "\n",
    "  #          return jsonify({'error': str(e), 'trace': traceback.format_exc()})\n",
    "else:\n",
    "        print('train first')\n",
    "#        return('no model here')"
   ]
  },
  {
   "cell_type": "code",
   "execution_count": null,
   "metadata": {},
   "outputs": [],
   "source": []
  }
 ],
 "metadata": {
  "kernelspec": {
   "display_name": "Python 3",
   "language": "python",
   "name": "python3"
  },
  "language_info": {
   "codemirror_mode": {
    "name": "ipython",
    "version": 3
   },
   "file_extension": ".py",
   "mimetype": "text/x-python",
   "name": "python",
   "nbconvert_exporter": "python",
   "pygments_lexer": "ipython3",
   "version": "3.6.3"
  }
 },
 "nbformat": 4,
 "nbformat_minor": 2
}
