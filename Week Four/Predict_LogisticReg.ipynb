{
 "cells": [
  {
   "cell_type": "code",
   "execution_count": 1,
   "metadata": {},
   "outputs": [],
   "source": [
    "\n",
    "import sys\n",
    "import os\n",
    "import shutil\n",
    "import time\n",
    "import traceback\n",
    "import pickle\n",
    "\n",
    "from flask import Flask, request, jsonify\n",
    "import pandas as pd\n",
    "from sklearn.externals import joblib"
   ]
  },
  {
   "cell_type": "code",
   "execution_count": 2,
   "metadata": {},
   "outputs": [],
   "source": [
    "app = Flask(__name__)"
   ]
  },
  {
   "cell_type": "code",
   "execution_count": 8,
   "metadata": {},
   "outputs": [],
   "source": [
    "\n",
    "\n",
    "model_file_name = 'model/model.pkl'\n",
    "model_columns_file_name = 'model/model_columns.pkl'"
   ]
  },
  {
   "cell_type": "code",
   "execution_count": 9,
   "metadata": {},
   "outputs": [
    {
     "ename": "FileNotFoundError",
     "evalue": "[Errno 2] No such file or directory: 'model/model.pkl'",
     "traceback": [
      "\u001b[0;31m---------------------------------------------------------------------------\u001b[0m",
      "\u001b[0;31mFileNotFoundError\u001b[0m                         Traceback (most recent call last)",
      "\u001b[0;32m<ipython-input-9-0e0fdacb5cec>\u001b[0m in \u001b[0;36m<module>\u001b[0;34m()\u001b[0m\n\u001b[0;32m----> 1\u001b[0;31m \u001b[0mclf\u001b[0m \u001b[0;34m=\u001b[0m \u001b[0mjoblib\u001b[0m\u001b[0;34m.\u001b[0m\u001b[0mload\u001b[0m\u001b[0;34m(\u001b[0m\u001b[0mmodel_file_name\u001b[0m\u001b[0;34m)\u001b[0m\u001b[0;34m\u001b[0m\u001b[0m\n\u001b[0m\u001b[1;32m      2\u001b[0m \u001b[0;34m\u001b[0m\u001b[0m\n\u001b[1;32m      3\u001b[0m \u001b[0mmodel_columns\u001b[0m \u001b[0;34m=\u001b[0m \u001b[0mjoblib\u001b[0m\u001b[0;34m.\u001b[0m\u001b[0mload\u001b[0m\u001b[0;34m(\u001b[0m\u001b[0mmodel_columns_file_name\u001b[0m\u001b[0;34m)\u001b[0m\u001b[0;34m\u001b[0m\u001b[0m\n",
      "\u001b[0;32m/usr/lib/python3.6/site-packages/sklearn/externals/joblib/numpy_pickle.py\u001b[0m in \u001b[0;36mload\u001b[0;34m(filename, mmap_mode)\u001b[0m\n\u001b[1;32m    568\u001b[0m             \u001b[0mobj\u001b[0m \u001b[0;34m=\u001b[0m \u001b[0m_unpickle\u001b[0m\u001b[0;34m(\u001b[0m\u001b[0mfobj\u001b[0m\u001b[0;34m)\u001b[0m\u001b[0;34m\u001b[0m\u001b[0m\n\u001b[1;32m    569\u001b[0m     \u001b[0;32melse\u001b[0m\u001b[0;34m:\u001b[0m\u001b[0;34m\u001b[0m\u001b[0m\n\u001b[0;32m--> 570\u001b[0;31m         \u001b[0;32mwith\u001b[0m \u001b[0mopen\u001b[0m\u001b[0;34m(\u001b[0m\u001b[0mfilename\u001b[0m\u001b[0;34m,\u001b[0m \u001b[0;34m'rb'\u001b[0m\u001b[0;34m)\u001b[0m \u001b[0;32mas\u001b[0m \u001b[0mf\u001b[0m\u001b[0;34m:\u001b[0m\u001b[0;34m\u001b[0m\u001b[0m\n\u001b[0m\u001b[1;32m    571\u001b[0m             \u001b[0;32mwith\u001b[0m \u001b[0m_read_fileobject\u001b[0m\u001b[0;34m(\u001b[0m\u001b[0mf\u001b[0m\u001b[0;34m,\u001b[0m \u001b[0mfilename\u001b[0m\u001b[0;34m,\u001b[0m \u001b[0mmmap_mode\u001b[0m\u001b[0;34m)\u001b[0m \u001b[0;32mas\u001b[0m \u001b[0mfobj\u001b[0m\u001b[0;34m:\u001b[0m\u001b[0;34m\u001b[0m\u001b[0m\n\u001b[1;32m    572\u001b[0m                 \u001b[0;32mif\u001b[0m \u001b[0misinstance\u001b[0m\u001b[0;34m(\u001b[0m\u001b[0mfobj\u001b[0m\u001b[0;34m,\u001b[0m \u001b[0m_basestring\u001b[0m\u001b[0;34m)\u001b[0m\u001b[0;34m:\u001b[0m\u001b[0;34m\u001b[0m\u001b[0m\n",
      "\u001b[0;31mFileNotFoundError\u001b[0m: [Errno 2] No such file or directory: 'model/model.pkl'"
     ],
     "output_type": "error"
    }
   ],
   "source": [
    "clf = joblib.load(model_file_name)\n",
    "\n",
    "model_columns = joblib.load(model_columns_file_name)"
   ]
  },
  {
   "cell_type": "code",
   "execution_count": 7,
   "metadata": {
    "scrolled": false
   },
   "outputs": [
    {
     "ename": "NameError",
     "evalue": "name 'clf' is not defined",
     "traceback": [
      "\u001b[0;31m---------------------------------------------------------------------------\u001b[0m",
      "\u001b[0;31mNameError\u001b[0m                                 Traceback (most recent call last)",
      "\u001b[0;32m<ipython-input-7-5a9432b0bb09>\u001b[0m in \u001b[0;36m<module>\u001b[0;34m()\u001b[0m\n\u001b[0;32m----> 1\u001b[0;31m \u001b[0;32mif\u001b[0m \u001b[0mclf\u001b[0m\u001b[0;34m:\u001b[0m\u001b[0;34m\u001b[0m\u001b[0m\n\u001b[0m\u001b[1;32m      2\u001b[0m \u001b[0;31m#        try:\u001b[0m\u001b[0;34m\u001b[0m\u001b[0;34m\u001b[0m\u001b[0m\n\u001b[1;32m      3\u001b[0m \u001b[0;31m#            json_ = request.json\u001b[0m\u001b[0;34m\u001b[0m\u001b[0;34m\u001b[0m\u001b[0m\n\u001b[1;32m      4\u001b[0m             \u001b[0mquery\u001b[0m \u001b[0;34m=\u001b[0m \u001b[0mpd\u001b[0m\u001b[0;34m.\u001b[0m\u001b[0mDataFrame\u001b[0m\u001b[0;34m(\u001b[0m\u001b[0;34m[\u001b[0m\u001b[0;34m[\u001b[0m\u001b[0;36m1.0\u001b[0m\u001b[0;34m,\u001b[0m\u001b[0;36m1.0\u001b[0m\u001b[0;34m,\u001b[0m \u001b[0;36m0.0\u001b[0m\u001b[0;34m,\u001b[0m\u001b[0;36m0.0\u001b[0m\u001b[0;34m,\u001b[0m\u001b[0;36m1.0\u001b[0m\u001b[0;34m,\u001b[0m\u001b[0;36m0.0\u001b[0m\u001b[0;34m,\u001b[0m \u001b[0;36m0.0\u001b[0m\u001b[0;34m,\u001b[0m\u001b[0;36m0.0\u001b[0m\u001b[0;34m,\u001b[0m\u001b[0;36m1.0\u001b[0m\u001b[0;34m,\u001b[0m\u001b[0;36m0.0\u001b[0m\u001b[0;34m,\u001b[0m\u001b[0;36m0.0\u001b[0m\u001b[0;34m,\u001b[0m \u001b[0;36m4.0\u001b[0m\u001b[0;34m,\u001b[0m\u001b[0;36m32.0\u001b[0m\u001b[0;34m,\u001b[0m\u001b[0;36m13.0\u001b[0m\u001b[0;34m,\u001b[0m\u001b[0;36m2.0\u001b[0m\u001b[0;34m,\u001b[0m\u001b[0;36m2.0\u001b[0m\u001b[0;34m,\u001b[0m\u001b[0;36m14.0\u001b[0m\u001b[0;34m]\u001b[0m\u001b[0;34m,\u001b[0m \u001b[0;34m[\u001b[0m\u001b[0;36m1.0\u001b[0m\u001b[0;34m,\u001b[0m    \u001b[0;36m1.0\u001b[0m\u001b[0;34m,\u001b[0m    \u001b[0;36m0.0\u001b[0m\u001b[0;34m,\u001b[0m    \u001b[0;36m0.0\u001b[0m\u001b[0;34m,\u001b[0m    \u001b[0;36m0.0\u001b[0m\u001b[0;34m,\u001b[0m    \u001b[0;36m0.0\u001b[0m\u001b[0;34m,\u001b[0m         \u001b[0;36m0.0\u001b[0m\u001b[0;34m,\u001b[0m         \u001b[0;36m1.0\u001b[0m\u001b[0;34m,\u001b[0m \u001b[0;36m0.0\u001b[0m\u001b[0;34m,\u001b[0m         \u001b[0;36m0.0\u001b[0m\u001b[0;34m,\u001b[0m         \u001b[0;36m0.0\u001b[0m\u001b[0;34m,\u001b[0m            \u001b[0;36m5.0\u001b[0m\u001b[0;34m,\u001b[0m  \u001b[0;36m37.0\u001b[0m\u001b[0;34m,\u001b[0m         \u001b[0;36m23.0\u001b[0m\u001b[0;34m,\u001b[0m \u001b[0;36m5.5\u001b[0m\u001b[0;34m,\u001b[0m        \u001b[0;36m2.0\u001b[0m\u001b[0;34m,\u001b[0m  \u001b[0;36m12.0\u001b[0m\u001b[0;34m,\u001b[0m \u001b[0;34m]\u001b[0m\u001b[0;34m]\u001b[0m\u001b[0;34m,\u001b[0m                                 \u001b[0mcolumns\u001b[0m\u001b[0;34m=\u001b[0m\u001b[0;34m[\u001b[0m\u001b[0;34m'Intercept'\u001b[0m\u001b[0;34m,\u001b[0m\u001b[0;34m'occ_2'\u001b[0m\u001b[0;34m,\u001b[0m\u001b[0;34m'occ_3'\u001b[0m\u001b[0;34m,\u001b[0m\u001b[0;34m'occ_4'\u001b[0m\u001b[0;34m,\u001b[0m\u001b[0;34m'occ_5'\u001b[0m\u001b[0;34m,\u001b[0m\u001b[0;34m'occ_6'\u001b[0m\u001b[0;34m,\u001b[0m\u001b[0;34m'occ_husb_2'\u001b[0m\u001b[0;34m,\u001b[0m\u001b[0;34m'occ_husb_3'\u001b[0m\u001b[0;34m,\u001b[0m\u001b[0;34m'occ_husb_4'\u001b[0m\u001b[0;34m,\u001b[0m\u001b[0;34m'occ_husb_5'\u001b[0m\u001b[0;34m,\u001b[0m\u001b[0;34m'occ_husb_6'\u001b[0m\u001b[0;34m,\u001b[0m\u001b[0;34m'rate_marriage'\u001b[0m\u001b[0;34m,\u001b[0m\u001b[0;34m'age'\u001b[0m\u001b[0;34m,\u001b[0m\u001b[0;34m'yrs_married'\u001b[0m\u001b[0;34m,\u001b[0m\u001b[0;34m'children'\u001b[0m\u001b[0;34m,\u001b[0m\u001b[0;34m'religious'\u001b[0m\u001b[0;34m,\u001b[0m\u001b[0;34m'educ'\u001b[0m\u001b[0;34m]\u001b[0m\u001b[0;34m)\u001b[0m\u001b[0;34m\u001b[0m\u001b[0m\n\u001b[1;32m      5\u001b[0m             \u001b[0mprint\u001b[0m\u001b[0;34m(\u001b[0m\u001b[0mquery\u001b[0m\u001b[0;34m)\u001b[0m\u001b[0;34m\u001b[0m\u001b[0m\n",
      "\u001b[0;31mNameError\u001b[0m: name 'clf' is not defined"
     ],
     "output_type": "error"
    }
   ],
   "source": [
    "if clf:\n",
    "#        try:\n",
    "#            json_ = request.json\n",
    "            query = pd.DataFrame([[1.0,1.0, 0.0,0.0,1.0,0.0, 0.0,0.0,1.0,0.0,0.0, 4.0,32.0,13.0,2.0,2.0,14.0], [1.0,    1.0,    0.0,    0.0,    0.0,    0.0,         0.0,         1.0, 0.0,         0.0,         0.0,            5.0,  37.0,         23.0, 5.5,        2.0,  12.0, ]],\\\n",
    "                                 columns=['Intercept','occ_2','occ_3','occ_4','occ_5','occ_6','occ_husb_2','occ_husb_3','occ_husb_4','occ_husb_5','occ_husb_6','rate_marriage','age','yrs_married','children','religious','educ'])\n",
    "            print(query)\n",
    "            for col in model_columns:\n",
    "                if col not in query.columns:\n",
    "                    query[col] = 0.0\n",
    "\n",
    "            prediction = list(clf.predict(query))\n",
    "            \n",
    "            print(\"\\nprediction for data 1 : \",prediction[0])\n",
    "            print(\"prediction for data 2 : \",prediction[1])\n",
    "\n",
    "#            return jsonify({'prediction': prediction})\n",
    "\n",
    " #       except Exception, e:\n",
    "\n",
    "  #          return jsonify({'error': str(e), 'trace': traceback.format_exc()})\n",
    "else:\n",
    "        print('train first')\n",
    "#        return('no model here')"
   ]
  },
  {
   "cell_type": "code",
   "execution_count": null,
   "metadata": {},
   "outputs": [],
   "source": []
  }
 ],
 "metadata": {
  "kernelspec": {
   "display_name": "Python 3",
   "language": "python",
   "name": "python3"
  },
  "language_info": {
   "codemirror_mode": {
    "name": "ipython",
    "version": 3
   },
   "file_extension": ".py",
   "mimetype": "text/x-python",
   "name": "python",
   "nbconvert_exporter": "python",
   "pygments_lexer": "ipython3",
   "version": "3.6.3"
  }
 },
 "nbformat": 4,
 "nbformat_minor": 2
}
