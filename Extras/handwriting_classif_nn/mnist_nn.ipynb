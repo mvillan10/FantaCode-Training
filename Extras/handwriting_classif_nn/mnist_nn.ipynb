{
 "cells": [
  {
   "cell_type": "code",
   "execution_count": 2,
   "metadata": {
    "collapsed": true
   },
   "outputs": [
    {
     "name": "stderr",
     "output_type": "stream",
     "text": [
      "Using TensorFlow backend.\n",
      "/usr/lib/python3.6/importlib/_bootstrap.py:219: RuntimeWarning: compiletime version 3.5 of module 'tensorflow.python.framework.fast_tensor_util' does not match runtime version 3.6\n",
      "  return f(*args, **kwds)\n"
     ]
    }
   ],
   "source": [
    "from keras.datasets import mnist\n",
    "import numpy as np\n",
    "from keras.models import Sequential\n",
    "from keras.layers import Dense\n",
    "from sklearn import metrics\n",
    "from keras.utils import np_utils"
   ]
  },
  {
   "cell_type": "code",
   "execution_count": 3,
   "metadata": {},
   "outputs": [],
   "source": [
    "data = mnist.load_data()"
   ]
  },
  {
   "cell_type": "code",
   "execution_count": 4,
   "metadata": {},
   "outputs": [
    {
     "name": "stdout",
     "output_type": "stream",
     "text": [
      "(60000,)\n",
      "(60000, 28, 28)\n",
      "(10000, 28, 28)\n"
     ]
    }
   ],
   "source": [
    "(X_train, y_train), (X_test, y_test) = mnist.load_data()\n",
    "X_train.shape\n",
    "X_test.shape\n",
    "print(y_train.shape)\n",
    "print(X_train.shape)\n",
    "print(X_test.shape)"
   ]
  },
  {
   "cell_type": "code",
   "execution_count": 5,
   "metadata": {},
   "outputs": [
    {
     "name": "stdout",
     "output_type": "stream",
     "text": [
      "(10000, 10)\n"
     ]
    }
   ],
   "source": [
    "Y = np_utils.to_categorical(y_train)\n",
    "Y1 = np_utils.to_categorical(y_test)\n",
    "print(Y1.shape)"
   ]
  },
  {
   "cell_type": "code",
   "execution_count": 17,
   "metadata": {},
   "outputs": [
    {
     "name": "stdout",
     "output_type": "stream",
     "text": [
      "(60000, 784) (10000, 784)\n"
     ]
    }
   ],
   "source": [
    "X = np.reshape(X_train, (60000, 784))\n",
    "X1 = np.reshape(X_test, (10000, 784))\n",
    "\n",
    "print(X.shape, X1.shape)"
   ]
  },
  {
   "cell_type": "code",
   "execution_count": 18,
   "metadata": {},
   "outputs": [],
   "source": [
    "X = X / 255.0\n",
    "X1 = X1 / 255.0"
   ]
  },
  {
   "cell_type": "code",
   "execution_count": 19,
   "metadata": {},
   "outputs": [],
   "source": [
    "model = Sequential()\n",
    "model.add(Dense(1568, input_shape=(784, ), activation='relu'))\n",
    "model.add(Dense(784, activation='relu'))\n",
    "model.add(Dense(10, activation='softmax'))"
   ]
  },
  {
   "cell_type": "code",
   "execution_count": 20,
   "metadata": {},
   "outputs": [],
   "source": [
    "model.compile(optimizer='adam', loss='categorical_crossentropy', metrics=['accuracy'])\n"
   ]
  },
  {
   "cell_type": "code",
   "execution_count": 21,
   "metadata": {
    "collapsed": true
   },
   "outputs": [
    {
     "name": "stdout",
     "output_type": "stream",
     "text": [
      "Epoch 1/10\n",
      "60000/60000 [==============================] - 39s 647us/step - loss: 0.1846 - acc: 0.9430\n",
      "Epoch 2/10\n",
      "60000/60000 [==============================] - 36s 608us/step - loss: 0.0713 - acc: 0.9781\n",
      "Epoch 3/10\n",
      "60000/60000 [==============================] - 36s 602us/step - loss: 0.0468 - acc: 0.9851\n",
      "Epoch 4/10\n",
      "60000/60000 [==============================] - 36s 606us/step - loss: 0.0324 - acc: 0.9900\n",
      "Epoch 5/10\n",
      "60000/60000 [==============================] - 39s 656us/step - loss: 0.0285 - acc: 0.99050s - loss: 0.0284 - acc: \n",
      "Epoch 6/10\n",
      "60000/60000 [==============================] - 40s 661us/step - loss: 0.0211 - acc: 0.9933\n",
      "Epoch 7/10\n",
      "60000/60000 [==============================] - 36s 607us/step - loss: 0.0220 - acc: 0.9929\n",
      "Epoch 8/10\n",
      "60000/60000 [==============================] - 38s 639us/step - loss: 0.0199 - acc: 0.9938\n",
      "Epoch 9/10\n",
      "60000/60000 [==============================] - 36s 606us/step - loss: 0.0124 - acc: 0.9959\n",
      "Epoch 10/10\n",
      "60000/60000 [==============================] - 36s 607us/step - loss: 0.0143 - acc: 0.9952\n"
     ]
    },
    {
     "data": {
      "text/plain": [
       "<keras.callbacks.History at 0x7f4a632d47b8>"
      ]
     },
     "execution_count": 21,
     "metadata": {},
     "output_type": "execute_result"
    }
   ],
   "source": [
    "model.fit(X, Y, epochs=10, batch_size=128 )"
   ]
  },
  {
   "cell_type": "code",
   "execution_count": 22,
   "metadata": {},
   "outputs": [],
   "source": [
    "prediction = model.predict(X1)"
   ]
  },
  {
   "cell_type": "code",
   "execution_count": 23,
   "metadata": {},
   "outputs": [
    {
     "name": "stdout",
     "output_type": "stream",
     "text": [
      "[[  5.71768574e-16   8.60688257e-13   2.65107862e-14 ...,   1.00000000e+00\n",
      "    2.50244026e-16   6.30381658e-09]\n",
      " [  2.36350392e-12   2.30635691e-10   1.00000000e+00 ...,   3.58997180e-16\n",
      "    1.26009425e-10   4.86571087e-18]\n",
      " [  3.65048325e-10   1.00000000e+00   5.45776167e-11 ...,   1.37764578e-10\n",
      "    6.11820639e-09   2.48502868e-11]\n",
      " ..., \n",
      " [  1.04337922e-16   1.85741995e-11   5.01446681e-16 ...,   3.41937429e-08\n",
      "    7.20648237e-12   1.73579118e-09]\n",
      " [  1.43278296e-16   1.25845414e-17   1.70341831e-18 ...,   7.71638015e-17\n",
      "    1.71041936e-09   1.88316452e-15]\n",
      " [  2.11571849e-13   7.33581015e-14   1.20749751e-13 ...,   1.70901024e-17\n",
      "    3.13258253e-10   1.69901623e-13]]\n",
      "[[ 0.  0.  0. ...,  1.  0.  0.]\n",
      " [ 0.  0.  1. ...,  0.  0.  0.]\n",
      " [ 0.  1.  0. ...,  0.  0.  0.]\n",
      " ..., \n",
      " [ 0.  0.  0. ...,  0.  0.  0.]\n",
      " [ 0.  0.  0. ...,  0.  0.  0.]\n",
      " [ 0.  0.  0. ...,  0.  0.  0.]]\n",
      "[7 2 1 ..., 4 5 6]\n",
      "(10000, 10)\n"
     ]
    }
   ],
   "source": [
    "print(prediction)\n",
    "print(Y1)\n",
    "print(y_test)\n",
    "print(prediction.shape)"
   ]
  },
  {
   "cell_type": "code",
   "execution_count": 24,
   "metadata": {},
   "outputs": [],
   "source": [
    "predicted_int = prediction.astype(int)\n"
   ]
  },
  {
   "cell_type": "code",
   "execution_count": 25,
   "metadata": {},
   "outputs": [
    {
     "data": {
      "text/plain": [
       "array([[0, 0, 0, ..., 1, 0, 0],\n",
       "       [0, 0, 1, ..., 0, 0, 0],\n",
       "       [0, 1, 0, ..., 0, 0, 0],\n",
       "       ..., \n",
       "       [0, 0, 0, ..., 0, 0, 0],\n",
       "       [0, 0, 0, ..., 0, 0, 0],\n",
       "       [0, 0, 0, ..., 0, 0, 0]])"
      ]
     },
     "execution_count": 25,
     "metadata": {},
     "output_type": "execute_result"
    }
   ],
   "source": [
    "predicted_int"
   ]
  },
  {
   "cell_type": "code",
   "execution_count": 26,
   "metadata": {},
   "outputs": [
    {
     "name": "stdout",
     "output_type": "stream",
     "text": [
      "0.4956\n"
     ]
    }
   ],
   "source": [
    "print(metrics.accuracy_score(predicted_int, Y1))"
   ]
  },
  {
   "cell_type": "code",
   "execution_count": 27,
   "metadata": {},
   "outputs": [
    {
     "name": "stdout",
     "output_type": "stream",
     "text": [
      "             precision    recall  f1-score   support\n",
      "\n",
      "          0       0.65      1.00      0.79       635\n",
      "          1       0.58      1.00      0.73       659\n",
      "          2       0.50      1.00      0.67       517\n",
      "          3       0.81      1.00      0.89       818\n",
      "          4       0.27      1.00      0.43       267\n",
      "          5       0.52      1.00      0.68       463\n",
      "          6       0.61      1.00      0.76       581\n",
      "          7       0.62      1.00      0.76       636\n",
      "          8       0.09      1.00      0.17        90\n",
      "          9       0.29      1.00      0.45       290\n",
      "\n",
      "avg / total       0.58      1.00      0.72      4956\n",
      "\n"
     ]
    }
   ],
   "source": [
    "print(metrics.classification_report(predicted_int, Y1))"
   ]
  },
  {
   "cell_type": "code",
   "execution_count": null,
   "metadata": {},
   "outputs": [],
   "source": []
  }
 ],
 "metadata": {
  "kernelspec": {
   "display_name": "Python 3",
   "language": "python",
   "name": "python3"
  },
  "language_info": {
   "codemirror_mode": {
    "name": "ipython",
    "version": 3
   },
   "file_extension": ".py",
   "mimetype": "text/x-python",
   "name": "python",
   "nbconvert_exporter": "python",
   "pygments_lexer": "ipython3",
   "version": "3.6.3"
  }
 },
 "nbformat": 4,
 "nbformat_minor": 1
}
